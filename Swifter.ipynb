{
 "cells": [
  {
   "cell_type": "code",
   "execution_count": 2,
   "metadata": {},
   "outputs": [
    {
     "name": "stdout",
     "output_type": "stream",
     "text": [
      "Collecting swifter\n",
      "  Downloading swifter-1.1.4.tar.gz (647 kB)\n",
      "Collecting pandas>=1.0.0\n",
      "  Downloading pandas-1.1.5-cp36-cp36m-win_amd64.whl (8.7 MB)\n",
      "Requirement already satisfied: psutil>=5.6.6 in c:\\users\\manjunath\\miniconda3\\envs\\azure_automl\\lib\\site-packages (from swifter) (5.8.0)\n",
      "Requirement already satisfied: dask[dataframe]>=2.10.0 in c:\\users\\manjunath\\miniconda3\\envs\\azure_automl\\lib\\site-packages (from swifter) (2.30.0)\n",
      "Requirement already satisfied: tqdm>=4.33.0 in c:\\users\\manjunath\\miniconda3\\envs\\azure_automl\\lib\\site-packages (from swifter) (4.62.3)\n",
      "Requirement already satisfied: ipywidgets>=7.0.0 in c:\\users\\manjunath\\miniconda3\\envs\\azure_automl\\lib\\site-packages (from swifter) (7.6.5)\n",
      "Requirement already satisfied: cloudpickle>=0.2.2 in c:\\users\\manjunath\\miniconda3\\envs\\azure_automl\\lib\\site-packages (from swifter) (2.0.0)\n",
      "Requirement already satisfied: parso>0.4.0 in c:\\users\\manjunath\\miniconda3\\envs\\azure_automl\\lib\\site-packages (from swifter) (0.7.1)\n",
      "Requirement already satisfied: bleach>=3.1.1 in c:\\users\\manjunath\\miniconda3\\envs\\azure_automl\\lib\\site-packages (from swifter) (4.1.0)\n",
      "Requirement already satisfied: packaging in c:\\users\\manjunath\\miniconda3\\envs\\azure_automl\\lib\\site-packages (from bleach>=3.1.1->swifter) (21.3)\n",
      "Requirement already satisfied: six>=1.9.0 in c:\\users\\manjunath\\miniconda3\\envs\\azure_automl\\lib\\site-packages (from bleach>=3.1.1->swifter) (1.16.0)\n",
      "Requirement already satisfied: webencodings in c:\\users\\manjunath\\miniconda3\\envs\\azure_automl\\lib\\site-packages (from bleach>=3.1.1->swifter) (0.5.1)\n",
      "Requirement already satisfied: pyyaml in c:\\users\\manjunath\\miniconda3\\envs\\azure_automl\\lib\\site-packages (from dask[dataframe]>=2.10.0->swifter) (6.0)\n",
      "Requirement already satisfied: fsspec>=0.6.0 in c:\\users\\manjunath\\miniconda3\\envs\\azure_automl\\lib\\site-packages (from dask[dataframe]>=2.10.0->swifter) (2022.1.0)\n",
      "Requirement already satisfied: numpy>=1.13.0 in c:\\users\\manjunath\\miniconda3\\envs\\azure_automl\\lib\\site-packages (from dask[dataframe]>=2.10.0->swifter) (1.18.5)\n",
      "Requirement already satisfied: toolz>=0.8.2 in c:\\users\\manjunath\\miniconda3\\envs\\azure_automl\\lib\\site-packages (from dask[dataframe]>=2.10.0->swifter) (0.11.2)\n",
      "Requirement already satisfied: partd>=0.3.10 in c:\\users\\manjunath\\miniconda3\\envs\\azure_automl\\lib\\site-packages (from dask[dataframe]>=2.10.0->swifter) (1.2.0)\n",
      "Requirement already satisfied: ipython>=4.0.0 in c:\\users\\manjunath\\miniconda3\\envs\\azure_automl\\lib\\site-packages (from ipywidgets>=7.0.0->swifter) (7.16.3)\n",
      "Requirement already satisfied: nbformat>=4.2.0 in c:\\users\\manjunath\\miniconda3\\envs\\azure_automl\\lib\\site-packages (from ipywidgets>=7.0.0->swifter) (5.1.3)\n",
      "Requirement already satisfied: traitlets>=4.3.1 in c:\\users\\manjunath\\miniconda3\\envs\\azure_automl\\lib\\site-packages (from ipywidgets>=7.0.0->swifter) (4.3.3)\n",
      "Requirement already satisfied: jupyterlab-widgets>=1.0.0 in c:\\users\\manjunath\\miniconda3\\envs\\azure_automl\\lib\\site-packages (from ipywidgets>=7.0.0->swifter) (1.0.2)\n",
      "Requirement already satisfied: ipykernel>=4.5.1 in c:\\users\\manjunath\\miniconda3\\envs\\azure_automl\\lib\\site-packages (from ipywidgets>=7.0.0->swifter) (5.5.6)\n",
      "Requirement already satisfied: widgetsnbextension~=3.5.0 in c:\\users\\manjunath\\miniconda3\\envs\\azure_automl\\lib\\site-packages (from ipywidgets>=7.0.0->swifter) (3.5.2)\n",
      "Requirement already satisfied: ipython-genutils~=0.2.0 in c:\\users\\manjunath\\miniconda3\\envs\\azure_automl\\lib\\site-packages (from ipywidgets>=7.0.0->swifter) (0.2.0)\n",
      "Requirement already satisfied: tornado>=4.2 in c:\\users\\manjunath\\miniconda3\\envs\\azure_automl\\lib\\site-packages (from ipykernel>=4.5.1->ipywidgets>=7.0.0->swifter) (6.1)\n",
      "Requirement already satisfied: jupyter-client in c:\\users\\manjunath\\miniconda3\\envs\\azure_automl\\lib\\site-packages (from ipykernel>=4.5.1->ipywidgets>=7.0.0->swifter) (7.1.2)\n",
      "Requirement already satisfied: colorama in c:\\users\\manjunath\\miniconda3\\envs\\azure_automl\\lib\\site-packages (from ipython>=4.0.0->ipywidgets>=7.0.0->swifter) (0.4.4)\n",
      "Requirement already satisfied: pygments in c:\\users\\manjunath\\miniconda3\\envs\\azure_automl\\lib\\site-packages (from ipython>=4.0.0->ipywidgets>=7.0.0->swifter) (2.11.2)\n",
      "Requirement already satisfied: decorator in c:\\users\\manjunath\\miniconda3\\envs\\azure_automl\\lib\\site-packages (from ipython>=4.0.0->ipywidgets>=7.0.0->swifter) (5.1.1)\n",
      "Requirement already satisfied: jedi<=0.17.2,>=0.10 in c:\\users\\manjunath\\miniconda3\\envs\\azure_automl\\lib\\site-packages (from ipython>=4.0.0->ipywidgets>=7.0.0->swifter) (0.17.2)\n",
      "Requirement already satisfied: prompt-toolkit!=3.0.0,!=3.0.1,<3.1.0,>=2.0.0 in c:\\users\\manjunath\\miniconda3\\envs\\azure_automl\\lib\\site-packages (from ipython>=4.0.0->ipywidgets>=7.0.0->swifter) (3.0.26)\n",
      "Requirement already satisfied: setuptools>=18.5 in c:\\users\\manjunath\\miniconda3\\envs\\azure_automl\\lib\\site-packages (from ipython>=4.0.0->ipywidgets>=7.0.0->swifter) (58.0.4)\n",
      "Requirement already satisfied: pickleshare in c:\\users\\manjunath\\miniconda3\\envs\\azure_automl\\lib\\site-packages (from ipython>=4.0.0->ipywidgets>=7.0.0->swifter) (0.7.5)\n",
      "Requirement already satisfied: backcall in c:\\users\\manjunath\\miniconda3\\envs\\azure_automl\\lib\\site-packages (from ipython>=4.0.0->ipywidgets>=7.0.0->swifter) (0.2.0)\n",
      "Requirement already satisfied: jupyter-core in c:\\users\\manjunath\\miniconda3\\envs\\azure_automl\\lib\\site-packages (from nbformat>=4.2.0->ipywidgets>=7.0.0->swifter) (4.9.1)\n",
      "Requirement already satisfied: jsonschema!=2.5.0,>=2.4 in c:\\users\\manjunath\\miniconda3\\envs\\azure_automl\\lib\\site-packages (from nbformat>=4.2.0->ipywidgets>=7.0.0->swifter) (3.2.0)\n",
      "Requirement already satisfied: attrs>=17.4.0 in c:\\users\\manjunath\\miniconda3\\envs\\azure_automl\\lib\\site-packages (from jsonschema!=2.5.0,>=2.4->nbformat>=4.2.0->ipywidgets>=7.0.0->swifter) (21.4.0)\n",
      "Requirement already satisfied: importlib-metadata in c:\\users\\manjunath\\miniconda3\\envs\\azure_automl\\lib\\site-packages (from jsonschema!=2.5.0,>=2.4->nbformat>=4.2.0->ipywidgets>=7.0.0->swifter) (4.8.3)\n",
      "Requirement already satisfied: pyrsistent>=0.14.0 in c:\\users\\manjunath\\miniconda3\\envs\\azure_automl\\lib\\site-packages (from jsonschema!=2.5.0,>=2.4->nbformat>=4.2.0->ipywidgets>=7.0.0->swifter) (0.18.0)\n",
      "Requirement already satisfied: pytz>=2017.2 in c:\\users\\manjunath\\miniconda3\\envs\\azure_automl\\lib\\site-packages (from pandas>=1.0.0->swifter) (2021.3)\n",
      "Requirement already satisfied: python-dateutil>=2.7.3 in c:\\users\\manjunath\\miniconda3\\envs\\azure_automl\\lib\\site-packages (from pandas>=1.0.0->swifter) (2.8.2)\n",
      "Requirement already satisfied: locket in c:\\users\\manjunath\\miniconda3\\envs\\azure_automl\\lib\\site-packages (from partd>=0.3.10->dask[dataframe]>=2.10.0->swifter) (0.2.1)\n",
      "Requirement already satisfied: wcwidth in c:\\users\\manjunath\\miniconda3\\envs\\azure_automl\\lib\\site-packages (from prompt-toolkit!=3.0.0,!=3.0.1,<3.1.0,>=2.0.0->ipython>=4.0.0->ipywidgets>=7.0.0->swifter) (0.2.5)\n",
      "Requirement already satisfied: notebook>=4.4.1 in c:\\users\\manjunath\\miniconda3\\envs\\azure_automl\\lib\\site-packages (from widgetsnbextension~=3.5.0->ipywidgets>=7.0.0->swifter) (6.4.8)\n",
      "Requirement already satisfied: argon2-cffi in c:\\users\\manjunath\\miniconda3\\envs\\azure_automl\\lib\\site-packages (from notebook>=4.4.1->widgetsnbextension~=3.5.0->ipywidgets>=7.0.0->swifter) (21.3.0)\n",
      "Requirement already satisfied: terminado>=0.8.3 in c:\\users\\manjunath\\miniconda3\\envs\\azure_automl\\lib\\site-packages (from notebook>=4.4.1->widgetsnbextension~=3.5.0->ipywidgets>=7.0.0->swifter) (0.12.1)\n",
      "Requirement already satisfied: jinja2 in c:\\users\\manjunath\\miniconda3\\envs\\azure_automl\\lib\\site-packages (from notebook>=4.4.1->widgetsnbextension~=3.5.0->ipywidgets>=7.0.0->swifter) (2.11.2)\n",
      "Requirement already satisfied: nest-asyncio>=1.5 in c:\\users\\manjunath\\miniconda3\\envs\\azure_automl\\lib\\site-packages (from notebook>=4.4.1->widgetsnbextension~=3.5.0->ipywidgets>=7.0.0->swifter) (1.5.4)\n",
      "Requirement already satisfied: pyzmq>=17 in c:\\users\\manjunath\\miniconda3\\envs\\azure_automl\\lib\\site-packages (from notebook>=4.4.1->widgetsnbextension~=3.5.0->ipywidgets>=7.0.0->swifter) (22.3.0)\n",
      "Requirement already satisfied: prometheus-client in c:\\users\\manjunath\\miniconda3\\envs\\azure_automl\\lib\\site-packages (from notebook>=4.4.1->widgetsnbextension~=3.5.0->ipywidgets>=7.0.0->swifter) (0.13.1)\n",
      "Requirement already satisfied: nbconvert in c:\\users\\manjunath\\miniconda3\\envs\\azure_automl\\lib\\site-packages (from notebook>=4.4.1->widgetsnbextension~=3.5.0->ipywidgets>=7.0.0->swifter) (6.0.7)\n",
      "Requirement already satisfied: Send2Trash>=1.8.0 in c:\\users\\manjunath\\miniconda3\\envs\\azure_automl\\lib\\site-packages (from notebook>=4.4.1->widgetsnbextension~=3.5.0->ipywidgets>=7.0.0->swifter) (1.8.0)\n",
      "Requirement already satisfied: entrypoints in c:\\users\\manjunath\\miniconda3\\envs\\azure_automl\\lib\\site-packages (from jupyter-client->ipykernel>=4.5.1->ipywidgets>=7.0.0->swifter) (0.3)\n",
      "Requirement already satisfied: pywin32>=1.0 in c:\\users\\manjunath\\miniconda3\\envs\\azure_automl\\lib\\site-packages (from jupyter-core->nbformat>=4.2.0->ipywidgets>=7.0.0->swifter) (227)\n",
      "Requirement already satisfied: pywinpty>=1.1.0 in c:\\users\\manjunath\\miniconda3\\envs\\azure_automl\\lib\\site-packages (from terminado>=0.8.3->notebook>=4.4.1->widgetsnbextension~=3.5.0->ipywidgets>=7.0.0->swifter) (1.1.6)\n",
      "Requirement already satisfied: typing-extensions in c:\\users\\manjunath\\miniconda3\\envs\\azure_automl\\lib\\site-packages (from argon2-cffi->notebook>=4.4.1->widgetsnbextension~=3.5.0->ipywidgets>=7.0.0->swifter) (4.0.1)\n",
      "Requirement already satisfied: dataclasses in c:\\users\\manjunath\\miniconda3\\envs\\azure_automl\\lib\\site-packages (from argon2-cffi->notebook>=4.4.1->widgetsnbextension~=3.5.0->ipywidgets>=7.0.0->swifter) (0.6)\n",
      "Requirement already satisfied: argon2-cffi-bindings in c:\\users\\manjunath\\miniconda3\\envs\\azure_automl\\lib\\site-packages (from argon2-cffi->notebook>=4.4.1->widgetsnbextension~=3.5.0->ipywidgets>=7.0.0->swifter) (21.2.0)\n",
      "Requirement already satisfied: cffi>=1.0.1 in c:\\users\\manjunath\\miniconda3\\envs\\azure_automl\\lib\\site-packages (from argon2-cffi-bindings->argon2-cffi->notebook>=4.4.1->widgetsnbextension~=3.5.0->ipywidgets>=7.0.0->swifter) (1.15.0)\n",
      "Requirement already satisfied: pycparser in c:\\users\\manjunath\\miniconda3\\envs\\azure_automl\\lib\\site-packages (from cffi>=1.0.1->argon2-cffi-bindings->argon2-cffi->notebook>=4.4.1->widgetsnbextension~=3.5.0->ipywidgets>=7.0.0->swifter) (2.21)\n",
      "Requirement already satisfied: zipp>=0.5 in c:\\users\\manjunath\\miniconda3\\envs\\azure_automl\\lib\\site-packages (from importlib-metadata->jsonschema!=2.5.0,>=2.4->nbformat>=4.2.0->ipywidgets>=7.0.0->swifter) (3.6.0)\n",
      "Requirement already satisfied: MarkupSafe>=0.23 in c:\\users\\manjunath\\miniconda3\\envs\\azure_automl\\lib\\site-packages (from jinja2->notebook>=4.4.1->widgetsnbextension~=3.5.0->ipywidgets>=7.0.0->swifter) (2.0.1)\n",
      "Requirement already satisfied: nbclient<0.6.0,>=0.5.0 in c:\\users\\manjunath\\miniconda3\\envs\\azure_automl\\lib\\site-packages (from nbconvert->notebook>=4.4.1->widgetsnbextension~=3.5.0->ipywidgets>=7.0.0->swifter) (0.5.9)\n",
      "Requirement already satisfied: defusedxml in c:\\users\\manjunath\\miniconda3\\envs\\azure_automl\\lib\\site-packages (from nbconvert->notebook>=4.4.1->widgetsnbextension~=3.5.0->ipywidgets>=7.0.0->swifter) (0.7.1)\n",
      "Requirement already satisfied: mistune<2,>=0.8.1 in c:\\users\\manjunath\\miniconda3\\envs\\azure_automl\\lib\\site-packages (from nbconvert->notebook>=4.4.1->widgetsnbextension~=3.5.0->ipywidgets>=7.0.0->swifter) (0.8.4)\n",
      "Requirement already satisfied: jupyterlab-pygments in c:\\users\\manjunath\\miniconda3\\envs\\azure_automl\\lib\\site-packages (from nbconvert->notebook>=4.4.1->widgetsnbextension~=3.5.0->ipywidgets>=7.0.0->swifter) (0.1.2)\n",
      "Requirement already satisfied: testpath in c:\\users\\manjunath\\miniconda3\\envs\\azure_automl\\lib\\site-packages (from nbconvert->notebook>=4.4.1->widgetsnbextension~=3.5.0->ipywidgets>=7.0.0->swifter) (0.5.0)\n",
      "Requirement already satisfied: pandocfilters>=1.4.1 in c:\\users\\manjunath\\miniconda3\\envs\\azure_automl\\lib\\site-packages (from nbconvert->notebook>=4.4.1->widgetsnbextension~=3.5.0->ipywidgets>=7.0.0->swifter) (1.5.0)\n",
      "Requirement already satisfied: async-generator in c:\\users\\manjunath\\miniconda3\\envs\\azure_automl\\lib\\site-packages (from nbclient<0.6.0,>=0.5.0->nbconvert->notebook>=4.4.1->widgetsnbextension~=3.5.0->ipywidgets>=7.0.0->swifter) (1.10)\n",
      "Requirement already satisfied: pyparsing!=3.0.5,>=2.0.2 in c:\\users\\manjunath\\miniconda3\\envs\\azure_automl\\lib\\site-packages (from packaging->bleach>=3.1.1->swifter) (3.0.6)\n",
      "Building wheels for collected packages: swifter\n",
      "  Building wheel for swifter (setup.py): started\n",
      "  Building wheel for swifter (setup.py): finished with status 'done'\n",
      "  Created wheel for swifter: filename=swifter-1.1.4-py3-none-any.whl size=13932 sha256=d88671858ba86bee458d60c414c1077c4fe741a7793b44cd1d564b552447dac1\n",
      "  Stored in directory: c:\\users\\manjunath\\appdata\\local\\pip\\cache\\wheels\\3e\\aa\\16\\08e2b923eb2eff0c57114a8af20c63401e514c055103e551bf\n",
      "Successfully built swifter\n",
      "Installing collected packages: pandas, swifter\n",
      "  Attempting uninstall: pandas\n",
      "    Found existing installation: pandas 0.25.3\n",
      "    Uninstalling pandas-0.25.3:\n",
      "      Successfully uninstalled pandas-0.25.3\n",
      "Successfully installed pandas-1.1.5 swifter-1.1.4\n",
      "Note: you may need to restart the kernel to use updated packages.\n"
     ]
    },
    {
     "name": "stderr",
     "output_type": "stream",
     "text": [
      "WARNING: Ignoring invalid distribution -atplotlib (c:\\users\\manjunath\\miniconda3\\envs\\azure_automl\\lib\\site-packages)\n",
      "WARNING: Ignoring invalid distribution -atplotlib (c:\\users\\manjunath\\miniconda3\\envs\\azure_automl\\lib\\site-packages)\n",
      "WARNING: Ignoring invalid distribution -atplotlib (c:\\users\\manjunath\\miniconda3\\envs\\azure_automl\\lib\\site-packages)\n",
      "    WARNING: Ignoring invalid distribution -atplotlib (c:\\users\\manjunath\\miniconda3\\envs\\azure_automl\\lib\\site-packages)\n",
      "WARNING: Ignoring invalid distribution -atplotlib (c:\\users\\manjunath\\miniconda3\\envs\\azure_automl\\lib\\site-packages)\n",
      "WARNING: Ignoring invalid distribution -atplotlib (c:\\users\\manjunath\\miniconda3\\envs\\azure_automl\\lib\\site-packages)\n",
      "ERROR: pip's dependency resolver does not currently take into account all the packages that are installed. This behaviour is the source of the following dependency conflicts.\n",
      "fbprophet 0.5 requires setuptools-git>=1.2, which is not installed.\n",
      "azureml-train-automl-runtime 1.38.0 requires pandas<1.0.0,>=0.21.0, but you have pandas 1.1.5 which is incompatible.\n",
      "azureml-automl-runtime 1.38.0 requires pandas<1.0.0,>=0.21.0, but you have pandas 1.1.5 which is incompatible.\n",
      "WARNING: Ignoring invalid distribution -atplotlib (c:\\users\\manjunath\\miniconda3\\envs\\azure_automl\\lib\\site-packages)\n",
      "WARNING: Ignoring invalid distribution -atplotlib (c:\\users\\manjunath\\miniconda3\\envs\\azure_automl\\lib\\site-packages)\n",
      "WARNING: Ignoring invalid distribution -atplotlib (c:\\users\\manjunath\\miniconda3\\envs\\azure_automl\\lib\\site-packages)\n"
     ]
    }
   ],
   "source": [
    "# %pip install swifter"
   ]
  },
  {
   "cell_type": "code",
   "execution_count": 1,
   "metadata": {},
   "outputs": [],
   "source": [
    "import swifter "
   ]
  },
  {
   "cell_type": "code",
   "execution_count": null,
   "metadata": {},
   "outputs": [],
   "source": []
  }
 ],
 "metadata": {
  "kernelspec": {
   "display_name": "Python 3.6.13 ('azure_automl')",
   "language": "python",
   "name": "python3"
  },
  "language_info": {
   "codemirror_mode": {
    "name": "ipython",
    "version": 3
   },
   "file_extension": ".py",
   "mimetype": "text/x-python",
   "name": "python",
   "nbconvert_exporter": "python",
   "pygments_lexer": "ipython3",
   "version": "3.6.13"
  },
  "orig_nbformat": 4,
  "vscode": {
   "interpreter": {
    "hash": "5643318745b79b3beb11ee3e849fa4e896540f2c6aa2c56ebf382350661707b1"
   }
  }
 },
 "nbformat": 4,
 "nbformat_minor": 2
}
