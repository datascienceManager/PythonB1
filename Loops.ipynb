{
 "cells": [
  {
   "cell_type": "code",
   "execution_count": 1,
   "metadata": {},
   "outputs": [
    {
     "name": "stdout",
     "output_type": "stream",
     "text": [
      "1\n",
      "2\n",
      "3\n",
      "4\n",
      "5\n"
     ]
    }
   ],
   "source": [
    "mm = [1,2,3,4,5]\n",
    "\n",
    "for i in mm:\n",
    "    print(i)"
   ]
  },
  {
   "cell_type": "code",
   "execution_count": 4,
   "metadata": {},
   "outputs": [
    {
     "name": "stdout",
     "output_type": "stream",
     "text": [
      "2\n",
      "4\n",
      "6\n",
      "8\n",
      "10\n",
      "12\n",
      "14\n",
      "16\n",
      "18\n",
      "20\n"
     ]
    }
   ],
   "source": [
    "n = [1,2,3,4,5,6,7,8,9,10,11,12,13,14,15,16,17,18,19,20]\n",
    "\n",
    "for i in n:\n",
    "    if i % 2 == 0:\n",
    "        print(i)\n"
   ]
  },
  {
   "cell_type": "code",
   "execution_count": 9,
   "metadata": {},
   "outputs": [
    {
     "name": "stdout",
     "output_type": "stream",
     "text": [
      "Odd number :1\n",
      "Even number:2\n",
      "Odd number :3\n",
      "Even number:4\n",
      "Odd number :5\n",
      "Even number:6\n",
      "Odd number :7\n",
      "Even number:8\n",
      "Odd number :9\n",
      "Even number:10\n",
      "Odd number :11\n",
      "Even number:12\n",
      "Odd number :13\n",
      "Even number:14\n",
      "Odd number :15\n",
      "Even number:16\n",
      "Odd number :17\n",
      "Even number:18\n",
      "Odd number :19\n",
      "Even number:20\n",
      "All got checked\n"
     ]
    }
   ],
   "source": [
    "for i in n:\n",
    "    if i % 2 == 0:\n",
    "        print(f'Even number:{i}')\n",
    "    else :\n",
    "        print(f'Odd number :{i}')\n",
    "print('All got checked')\n"
   ]
  },
  {
   "cell_type": "code",
   "execution_count": 7,
   "metadata": {},
   "outputs": [
    {
     "name": "stdout",
     "output_type": "stream",
     "text": [
      "1\n",
      "3\n",
      "6\n",
      "10\n",
      "15\n",
      "21\n",
      "28\n",
      "36\n",
      "45\n",
      "55\n",
      "66\n",
      "78\n",
      "91\n",
      "105\n",
      "120\n",
      "136\n",
      "153\n",
      "171\n",
      "190\n",
      "210\n",
      "210\n"
     ]
    }
   ],
   "source": [
    "StartingCount = 0\n",
    "\n",
    "for i in n:\n",
    "    StartingCount = StartingCount+i\n",
    "    print(StartingCount)\n",
    "print(StartingCount)\n"
   ]
  },
  {
   "cell_type": "code",
   "execution_count": 11,
   "metadata": {},
   "outputs": [
    {
     "name": "stdout",
     "output_type": "stream",
     "text": [
      "1\n",
      "2\n",
      "3\n"
     ]
    }
   ],
   "source": [
    "t = (1,2,3)\n",
    "\n",
    "for item in t:# iteam each element\n",
    "    print(item)"
   ]
  },
  {
   "cell_type": "code",
   "execution_count": 13,
   "metadata": {},
   "outputs": [
    {
     "name": "stdout",
     "output_type": "stream",
     "text": [
      "first item 1 and second item 2\n",
      "first item 3 and second item 4\n",
      "first item 5 and second item 6\n"
     ]
    }
   ],
   "source": [
    "listdouble = [(1,2),(3,4),(5,6)]\n",
    "\n",
    "for a,b in listdouble:\n",
    "    print(f'first item {a} and second item {b}')"
   ]
  },
  {
   "cell_type": "code",
   "execution_count": 1,
   "metadata": {},
   "outputs": [
    {
     "name": "stdout",
     "output_type": "stream",
     "text": [
      "First item 1 Second item 2 Third item 3\n",
      "First item 4 Second item 5 Third item 6\n",
      "First item 7 Second item 8 Third item 9\n",
      "First item 10 Second item 11 Third item 12\n"
     ]
    }
   ],
   "source": [
    "ls2 =[(1,2,3),(4,5,6),(7,8,9),(10,11,12)]\n",
    "\n",
    "for a,b,c in ls2:\n",
    "    print(f'First item {a} Second item {b} Third item {c}')\n",
    "\n"
   ]
  },
  {
   "cell_type": "code",
   "execution_count": 16,
   "metadata": {},
   "outputs": [
    {
     "name": "stdout",
     "output_type": "stream",
     "text": [
      "('k1', 1)\n",
      "('k2', 2)\n",
      "('k3', 3)\n"
     ]
    }
   ],
   "source": [
    "dict = {'k1':1,'k2':2,'k3':3}\n",
    "\n",
    "for item in dict.items():\n",
    "    print(item)"
   ]
  },
  {
   "cell_type": "code",
   "execution_count": 17,
   "metadata": {},
   "outputs": [
    {
     "name": "stdout",
     "output_type": "stream",
     "text": [
      "k1 1\n",
      "k2 2\n",
      "k3 3\n"
     ]
    }
   ],
   "source": [
    "dict = {'k1':1,'k2':2,'k3':3}\n",
    "\n",
    "for key,value in dict.items():\n",
    "    print(key,value)"
   ]
  },
  {
   "cell_type": "code",
   "execution_count": 3,
   "metadata": {},
   "outputs": [
    {
     "name": "stdout",
     "output_type": "stream",
     "text": [
      "print x is 0\n",
      "print x is 1\n",
      "print x is 2\n",
      "print x is 3\n",
      "print x is 4\n",
      "X is greater then condition\n"
     ]
    }
   ],
   "source": [
    "# While loop\n",
    "x = 0\n",
    "\n",
    "while x < 5:\n",
    "    print(f'print x is {x}')\n",
    "    # x = x+1\n",
    "    x+=1\n",
    "else:\n",
    "    print(f'X is greater then condition')"
   ]
  },
  {
   "cell_type": "code",
   "execution_count": null,
   "metadata": {},
   "outputs": [],
   "source": [
    "# Break , Continue , pass"
   ]
  },
  {
   "cell_type": "code",
   "execution_count": 4,
   "metadata": {},
   "outputs": [
    {
     "name": "stdout",
     "output_type": "stream",
     "text": [
      "end of the code\n"
     ]
    }
   ],
   "source": [
    "# pass\n",
    "\n",
    "x = [1,2,3,4,5]\n",
    "\n",
    "for i in x:\n",
    "    #comment nothing in below code\n",
    "    pass\n",
    "print('end of the code')"
   ]
  },
  {
   "cell_type": "code",
   "execution_count": 6,
   "metadata": {},
   "outputs": [
    {
     "name": "stdout",
     "output_type": "stream",
     "text": [
      "m\n",
      "a\n",
      "n\n",
      "j\n",
      "n\n",
      "a\n",
      "t\n",
      "h\n"
     ]
    }
   ],
   "source": [
    "name = 'manjunath'\n",
    "\n",
    "for letter in name:\n",
    "    if letter =='u':\n",
    "        continue\n",
    "    print(letter)\n",
    "    # above code will skip the letter 'u' and it continues"
   ]
  },
  {
   "cell_type": "code",
   "execution_count": 7,
   "metadata": {},
   "outputs": [
    {
     "name": "stdout",
     "output_type": "stream",
     "text": [
      "letter is r\n",
      "letter is a\n"
     ]
    }
   ],
   "source": [
    "name = 'raju'\n",
    "\n",
    "for l in name:\n",
    "    if l == 'j':\n",
    "        break\n",
    "    print(f'letter is {l}')\n",
    "\n"
   ]
  },
  {
   "cell_type": "code",
   "execution_count": 8,
   "metadata": {},
   "outputs": [
    {
     "name": "stdout",
     "output_type": "stream",
     "text": [
      "0\n",
      "1\n",
      "2\n",
      "3\n",
      "4\n",
      "5\n",
      "6\n",
      "7\n",
      "8\n",
      "9\n"
     ]
    }
   ],
   "source": [
    "# Operators \n",
    "\n",
    "for i in range(10):\n",
    "    print(i)"
   ]
  },
  {
   "cell_type": "code",
   "execution_count": 12,
   "metadata": {},
   "outputs": [
    {
     "name": "stdout",
     "output_type": "stream",
     "text": [
      "0\n",
      "2\n",
      "4\n",
      "6\n",
      "8\n",
      "10\n"
     ]
    }
   ],
   "source": [
    "for i in range(0,11,2):\n",
    "\n",
    "    print(i)"
   ]
  },
  {
   "cell_type": "code",
   "execution_count": 11,
   "metadata": {},
   "outputs": [
    {
     "data": {
      "text/plain": [
       "[0, 2, 4, 6, 8, 10]"
      ]
     },
     "execution_count": 11,
     "metadata": {},
     "output_type": "execute_result"
    }
   ],
   "source": [
    "# Generator\n",
    "\n",
    "list(range(0,11,2))"
   ]
  },
  {
   "cell_type": "code",
   "execution_count": 13,
   "metadata": {},
   "outputs": [
    {
     "name": "stdout",
     "output_type": "stream",
     "text": [
      "m\n",
      "a\n",
      "n\n",
      "j\n",
      "u\n"
     ]
    }
   ],
   "source": [
    "index_count = 0\n",
    "\n",
    "word ='manju'\n",
    "\n",
    "for letter in word:\n",
    "    print(word[index_count])\n",
    "\n",
    "    index_count+=1\n",
    "    \n"
   ]
  },
  {
   "cell_type": "code",
   "execution_count": 14,
   "metadata": {},
   "outputs": [
    {
     "name": "stdout",
     "output_type": "stream",
     "text": [
      "(0, 'm')\n",
      "(1, 'a')\n",
      "(2, 'n')\n"
     ]
    }
   ],
   "source": [
    "# Above thing can be performed using enumerator\n",
    "\n",
    "w = 'man'\n",
    "\n",
    "for i in enumerate(w):\n",
    "    print(i)"
   ]
  },
  {
   "cell_type": "code",
   "execution_count": 16,
   "metadata": {},
   "outputs": [
    {
     "name": "stdout",
     "output_type": "stream",
     "text": [
      "index is 0 and letter is m\n",
      "index is 1 and letter is a\n",
      "index is 2 and letter is n\n"
     ]
    }
   ],
   "source": [
    "for index,letter in enumerate(w):\n",
    "    print('index is {} and letter is {}'.format(index,letter))"
   ]
  },
  {
   "cell_type": "code",
   "execution_count": 17,
   "metadata": {},
   "outputs": [
    {
     "name": "stdout",
     "output_type": "stream",
     "text": [
      "(1, 'a')\n",
      "(2, 'b')\n",
      "(3, 'c')\n",
      "(4, 'd')\n",
      "(5, 'e')\n"
     ]
    }
   ],
   "source": [
    "# Zip function\n",
    "\n",
    "num = [1,2,3,4,5]\n",
    "letter = ['a','b','c','d','e']\n",
    "\n",
    "for i in zip(num,letter):\n",
    "    print(i)"
   ]
  },
  {
   "cell_type": "code",
   "execution_count": null,
   "metadata": {},
   "outputs": [],
   "source": []
  },
  {
   "cell_type": "code",
   "execution_count": null,
   "metadata": {},
   "outputs": [],
   "source": []
  },
  {
   "cell_type": "code",
   "execution_count": null,
   "metadata": {},
   "outputs": [],
   "source": []
  }
 ],
 "metadata": {
  "kernelspec": {
   "display_name": "Python (azure_automl)",
   "language": "python",
   "name": "azure_automl"
  },
  "language_info": {
   "codemirror_mode": {
    "name": "ipython",
    "version": 3
   },
   "file_extension": ".py",
   "mimetype": "text/x-python",
   "name": "python",
   "nbconvert_exporter": "python",
   "pygments_lexer": "ipython3",
   "version": "3.6.13"
  },
  "orig_nbformat": 4
 },
 "nbformat": 4,
 "nbformat_minor": 2
}
