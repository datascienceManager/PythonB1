{
 "cells": [
  {
   "cell_type": "code",
   "execution_count": 1,
   "metadata": {},
   "outputs": [
    {
     "name": "stdout",
     "output_type": "stream",
     "text": [
      "1\n",
      "2\n",
      "3\n",
      "4\n",
      "5\n"
     ]
    }
   ],
   "source": [
    "mm = [1,2,3,4,5]\n",
    "\n",
    "for i in mm:\n",
    "    print(i)"
   ]
  },
  {
   "cell_type": "code",
   "execution_count": null,
   "metadata": {},
   "outputs": [],
   "source": []
  },
  {
   "cell_type": "code",
   "execution_count": 4,
   "metadata": {},
   "outputs": [
    {
     "name": "stdout",
     "output_type": "stream",
     "text": [
      "2\n",
      "4\n",
      "6\n",
      "8\n",
      "10\n",
      "12\n",
      "14\n",
      "16\n",
      "18\n",
      "20\n"
     ]
    }
   ],
   "source": [
    "n = [1,2,3,4,5,6,7,8,9,10,11,12,13,14,15,16,17,18,19,20]\n",
    "\n",
    "for i in n:\n",
    "    if i % 2 == 0:\n",
    "        print(i)\n"
   ]
  },
  {
   "cell_type": "code",
   "execution_count": 9,
   "metadata": {},
   "outputs": [
    {
     "name": "stdout",
     "output_type": "stream",
     "text": [
      "Odd number :1\n",
      "Even number:2\n",
      "Odd number :3\n",
      "Even number:4\n",
      "Odd number :5\n",
      "Even number:6\n",
      "Odd number :7\n",
      "Even number:8\n",
      "Odd number :9\n",
      "Even number:10\n",
      "Odd number :11\n",
      "Even number:12\n",
      "Odd number :13\n",
      "Even number:14\n",
      "Odd number :15\n",
      "Even number:16\n",
      "Odd number :17\n",
      "Even number:18\n",
      "Odd number :19\n",
      "Even number:20\n",
      "All got checked\n"
     ]
    }
   ],
   "source": [
    "for i in n:\n",
    "    if i % 2 == 0:\n",
    "        print(f'Even number:{i}')\n",
    "    else :\n",
    "        print(f'Odd number :{i}')\n",
    "print('All got checked')\n"
   ]
  },
  {
   "cell_type": "code",
   "execution_count": 7,
   "metadata": {},
   "outputs": [
    {
     "name": "stdout",
     "output_type": "stream",
     "text": [
      "1\n",
      "3\n",
      "6\n",
      "10\n",
      "15\n",
      "21\n",
      "28\n",
      "36\n",
      "45\n",
      "55\n",
      "66\n",
      "78\n",
      "91\n",
      "105\n",
      "120\n",
      "136\n",
      "153\n",
      "171\n",
      "190\n",
      "210\n",
      "210\n"
     ]
    }
   ],
   "source": [
    "StartingCount = 0\n",
    "\n",
    "for i in n:\n",
    "    StartingCount = StartingCount+i\n",
    "    print(StartingCount)\n",
    "print(StartingCount)\n"
   ]
  },
  {
   "cell_type": "code",
   "execution_count": 11,
   "metadata": {},
   "outputs": [
    {
     "name": "stdout",
     "output_type": "stream",
     "text": [
      "1\n",
      "2\n",
      "3\n"
     ]
    }
   ],
   "source": [
    "t = (1,2,3)\n",
    "\n",
    "for item in t:# iteam each element\n",
    "    print(item)"
   ]
  },
  {
   "cell_type": "code",
   "execution_count": 13,
   "metadata": {},
   "outputs": [
    {
     "name": "stdout",
     "output_type": "stream",
     "text": [
      "first item 1 and second item 2\n",
      "first item 3 and second item 4\n",
      "first item 5 and second item 6\n"
     ]
    }
   ],
   "source": [
    "listdouble = [(1,2),(3,4),(5,6)]\n",
    "\n",
    "for a,b in listdouble:\n",
    "    print(f'first item {a} and second item {b}')"
   ]
  },
  {
   "cell_type": "code",
   "execution_count": 1,
   "metadata": {},
   "outputs": [
    {
     "name": "stdout",
     "output_type": "stream",
     "text": [
      "First item 1 Second item 2 Third item 3\n",
      "First item 4 Second item 5 Third item 6\n",
      "First item 7 Second item 8 Third item 9\n",
      "First item 10 Second item 11 Third item 12\n"
     ]
    }
   ],
   "source": [
    "ls2 =[(1,2,3),(4,5,6),(7,8,9),(10,11,12)]\n",
    "\n",
    "for a,b,c in ls2:\n",
    "    print(f'First item {a} Second item {b} Third item {c}')\n",
    "\n"
   ]
  },
  {
   "cell_type": "code",
   "execution_count": 16,
   "metadata": {},
   "outputs": [
    {
     "name": "stdout",
     "output_type": "stream",
     "text": [
      "('k1', 1)\n",
      "('k2', 2)\n",
      "('k3', 3)\n"
     ]
    }
   ],
   "source": [
    "dict = {'k1':1,'k2':2,'k3':3}\n",
    "\n",
    "for item in dict.items():\n",
    "    print(item)"
   ]
  },
  {
   "cell_type": "code",
   "execution_count": 17,
   "metadata": {},
   "outputs": [
    {
     "name": "stdout",
     "output_type": "stream",
     "text": [
      "k1 1\n",
      "k2 2\n",
      "k3 3\n"
     ]
    }
   ],
   "source": [
    "dict = {'k1':1,'k2':2,'k3':3}\n",
    "\n",
    "for key,value in dict.items():\n",
    "    print(key,value)"
   ]
  },
  {
   "cell_type": "code",
   "execution_count": 3,
   "metadata": {},
   "outputs": [
    {
     "name": "stdout",
     "output_type": "stream",
     "text": [
      "print x is 0\n",
      "print x is 1\n",
      "print x is 2\n",
      "print x is 3\n",
      "print x is 4\n",
      "X is greater then condition\n"
     ]
    }
   ],
   "source": [
    "# While loop\n",
    "x = 0\n",
    "\n",
    "while x < 5:\n",
    "    print(f'print x is {x}')\n",
    "    # x = x+1\n",
    "    x+=1\n",
    "else:\n",
    "    print(f'X is greater then condition')"
   ]
  },
  {
   "cell_type": "code",
   "execution_count": null,
   "metadata": {},
   "outputs": [],
   "source": [
    "# Break , Continue , pass"
   ]
  },
  {
   "cell_type": "code",
   "execution_count": 4,
   "metadata": {},
   "outputs": [
    {
     "name": "stdout",
     "output_type": "stream",
     "text": [
      "end of the code\n"
     ]
    }
   ],
   "source": [
    "# pass\n",
    "\n",
    "x = [1,2,3,4,5]\n",
    "\n",
    "for i in x:\n",
    "    #comment nothing in below code\n",
    "    pass\n",
    "print('end of the code')"
   ]
  },
  {
   "cell_type": "code",
   "execution_count": 6,
   "metadata": {},
   "outputs": [
    {
     "name": "stdout",
     "output_type": "stream",
     "text": [
      "m\n",
      "a\n",
      "n\n",
      "j\n",
      "n\n",
      "a\n",
      "t\n",
      "h\n"
     ]
    }
   ],
   "source": [
    "name = 'manjunath'\n",
    "\n",
    "for letter in name:\n",
    "    if letter =='u':\n",
    "        continue\n",
    "    print(letter)\n",
    "    # above code will skip the letter 'u' and it continues"
   ]
  },
  {
   "cell_type": "code",
   "execution_count": 7,
   "metadata": {},
   "outputs": [
    {
     "name": "stdout",
     "output_type": "stream",
     "text": [
      "letter is r\n",
      "letter is a\n"
     ]
    }
   ],
   "source": [
    "name = 'raju'\n",
    "\n",
    "for l in name:\n",
    "    if l == 'j':\n",
    "        break\n",
    "    print(f'letter is {l}')\n",
    "\n"
   ]
  },
  {
   "cell_type": "code",
   "execution_count": 8,
   "metadata": {},
   "outputs": [
    {
     "name": "stdout",
     "output_type": "stream",
     "text": [
      "0\n",
      "1\n",
      "2\n",
      "3\n",
      "4\n",
      "5\n",
      "6\n",
      "7\n",
      "8\n",
      "9\n"
     ]
    }
   ],
   "source": [
    "# Operators \n",
    "\n",
    "for i in range(10):\n",
    "    print(i)"
   ]
  },
  {
   "cell_type": "code",
   "execution_count": 12,
   "metadata": {},
   "outputs": [
    {
     "name": "stdout",
     "output_type": "stream",
     "text": [
      "0\n",
      "2\n",
      "4\n",
      "6\n",
      "8\n",
      "10\n"
     ]
    }
   ],
   "source": [
    "for i in range(0,11,2):\n",
    "\n",
    "    print(i)"
   ]
  },
  {
   "cell_type": "code",
   "execution_count": 11,
   "metadata": {},
   "outputs": [
    {
     "data": {
      "text/plain": [
       "[0, 2, 4, 6, 8, 10]"
      ]
     },
     "execution_count": 11,
     "metadata": {},
     "output_type": "execute_result"
    }
   ],
   "source": [
    "# Generator\n",
    "\n",
    "list(range(0,11,2))"
   ]
  },
  {
   "cell_type": "code",
   "execution_count": 13,
   "metadata": {},
   "outputs": [
    {
     "name": "stdout",
     "output_type": "stream",
     "text": [
      "m\n",
      "a\n",
      "n\n",
      "j\n",
      "u\n"
     ]
    }
   ],
   "source": [
    "index_count = 0\n",
    "\n",
    "word ='manju'\n",
    "\n",
    "for letter in word:\n",
    "    print(word[index_count])\n",
    "\n",
    "    index_count+=1\n",
    "    \n"
   ]
  },
  {
   "cell_type": "code",
   "execution_count": 14,
   "metadata": {},
   "outputs": [
    {
     "name": "stdout",
     "output_type": "stream",
     "text": [
      "(0, 'm')\n",
      "(1, 'a')\n",
      "(2, 'n')\n"
     ]
    }
   ],
   "source": [
    "# Above thing can be performed using enumerator\n",
    "\n",
    "w = 'man'\n",
    "\n",
    "for i in enumerate(w):\n",
    "    print(i)"
   ]
  },
  {
   "cell_type": "code",
   "execution_count": 16,
   "metadata": {},
   "outputs": [
    {
     "name": "stdout",
     "output_type": "stream",
     "text": [
      "index is 0 and letter is m\n",
      "index is 1 and letter is a\n",
      "index is 2 and letter is n\n"
     ]
    }
   ],
   "source": [
    "for index,letter in enumerate(w):\n",
    "    print('index is {} and letter is {}'.format(index,letter))"
   ]
  },
  {
   "cell_type": "code",
   "execution_count": 17,
   "metadata": {},
   "outputs": [
    {
     "name": "stdout",
     "output_type": "stream",
     "text": [
      "(1, 'a')\n",
      "(2, 'b')\n",
      "(3, 'c')\n",
      "(4, 'd')\n",
      "(5, 'e')\n"
     ]
    }
   ],
   "source": [
    "# Zip function\n",
    "\n",
    "num = [1,2,3,4,5]\n",
    "letter = ['a','b','c','d','e']\n",
    "\n",
    "for i in zip(num,letter):\n",
    "    print(i)"
   ]
  },
  {
   "cell_type": "code",
   "execution_count": 1,
   "metadata": {},
   "outputs": [
    {
     "name": "stdout",
     "output_type": "stream",
     "text": [
      "['m', 'a', 'n', 'j', 'u', 'n', 'a', 't', 'h']\n"
     ]
    }
   ],
   "source": [
    "# List comprehension\n",
    "\n",
    "Stringname = 'manjunath'\n",
    "\n",
    "mylist = []\n",
    "\n",
    "for i in Stringname:\n",
    "    mylist.append(i)\n",
    "print(mylist)\n"
   ]
  },
  {
   "cell_type": "code",
   "execution_count": 4,
   "metadata": {},
   "outputs": [
    {
     "data": {
      "text/plain": [
       "['m', 'a', 'n', 'j', 'u', 'n', 'a', 't', 'h']"
      ]
     },
     "execution_count": 4,
     "metadata": {},
     "output_type": "execute_result"
    }
   ],
   "source": [
    "# above can be done using list comprehension \n",
    "\n",
    "mylist = [i for i in Stringname]\n",
    "mylist\n",
    "# print(mylist)"
   ]
  },
  {
   "cell_type": "code",
   "execution_count": 5,
   "metadata": {},
   "outputs": [
    {
     "data": {
      "text/plain": [
       "['p', 'r', 'a', 's', 'a', 'd']"
      ]
     },
     "execution_count": 5,
     "metadata": {},
     "output_type": "execute_result"
    }
   ],
   "source": [
    "# another method \n",
    "mylist = [i for i in 'prasad']\n",
    "\n",
    "mylist"
   ]
  },
  {
   "cell_type": "code",
   "execution_count": 6,
   "metadata": {},
   "outputs": [
    {
     "data": {
      "text/plain": [
       "[1, 3, 5, 7, 9]"
      ]
     },
     "execution_count": 6,
     "metadata": {},
     "output_type": "execute_result"
    }
   ],
   "source": [
    "# Performing some action on that \n",
    "\n",
    "\n",
    "mylist = [num for num in range(1,10,2)]\n",
    "mylist\n",
    "\n"
   ]
  },
  {
   "cell_type": "code",
   "execution_count": 8,
   "metadata": {},
   "outputs": [
    {
     "data": {
      "text/plain": [
       "[0, 4, 16, 36, 64]"
      ]
     },
     "execution_count": 8,
     "metadata": {},
     "output_type": "execute_result"
    }
   ],
   "source": [
    "# Squaring the number\n",
    "\n",
    "mylist = [num**2 for num in range(0,10,2)]\n",
    "\n",
    "mylist"
   ]
  },
  {
   "cell_type": "code",
   "execution_count": 10,
   "metadata": {},
   "outputs": [
    {
     "data": {
      "text/plain": [
       "[0, 2, 4, 6, 8]"
      ]
     },
     "execution_count": 10,
     "metadata": {},
     "output_type": "execute_result"
    }
   ],
   "source": [
    "# adding if condition \n",
    "\n",
    "mylist = [num for num in range(0,10,2) if num%2==0]\n",
    "\n",
    "mylist"
   ]
  },
  {
   "cell_type": "code",
   "execution_count": 11,
   "metadata": {},
   "outputs": [
    {
     "data": {
      "text/plain": [
       "[70, 1400, 2100, 2800]"
      ]
     },
     "execution_count": 11,
     "metadata": {},
     "output_type": "execute_result"
    }
   ],
   "source": [
    "# some problem solving\n",
    "\n",
    "Amount_USD = [1,20,30,40]\n",
    "\n",
    "Amount_INR = [(amount* 70) for amount in Amount_USD ]\n",
    "\n",
    "Amount_INR"
   ]
  },
  {
   "cell_type": "code",
   "execution_count": 12,
   "metadata": {},
   "outputs": [
    {
     "data": {
      "text/plain": [
       "[70, 1400, 2100, 2800]"
      ]
     },
     "execution_count": 12,
     "metadata": {},
     "output_type": "execute_result"
    }
   ],
   "source": [
    "# Amount_INR using for looping traditional method\n",
    "\n",
    "Amount_USD = [1,20,30,40]\n",
    "Amount_INR = []\n",
    "\n",
    "for amount in Amount_USD:\n",
    "    Amount_INR.append(amount*70)\n",
    "\n",
    "Amount_INR\n",
    "\n"
   ]
  },
  {
   "cell_type": "code",
   "execution_count": 15,
   "metadata": {},
   "outputs": [
    {
     "data": {
      "text/plain": [
       "[0, 'NA', 2, 'NA', 4, 'NA', 6, 'NA', 8, 'NA']"
      ]
     },
     "execution_count": 15,
     "metadata": {},
     "output_type": "execute_result"
    }
   ],
   "source": [
    "SAPR = [re if re%2==0 else 'NA' for re in range(0,10)]\n",
    "\n",
    "SAPR"
   ]
  },
  {
   "cell_type": "code",
   "execution_count": 16,
   "metadata": {},
   "outputs": [
    {
     "ename": "SyntaxError",
     "evalue": "invalid syntax (<ipython-input-16-4e61b4d5f668>, line 1)",
     "output_type": "error",
     "traceback": [
      "\u001b[1;36m  File \u001b[1;32m\"<ipython-input-16-4e61b4d5f668>\"\u001b[1;36m, line \u001b[1;32m1\u001b[0m\n\u001b[1;33m    SAPR = [re for re in range(0,10) if re%2 == 0 else 'NA']\u001b[0m\n\u001b[1;37m                                                     ^\u001b[0m\n\u001b[1;31mSyntaxError\u001b[0m\u001b[1;31m:\u001b[0m invalid syntax\n"
     ]
    }
   ],
   "source": [
    "# Below way performing will not work if we have 'else condition\n",
    "\n",
    "SAPR = [re for re in range(0,10) if re%2 == 0 else 'NA']\n",
    "\n",
    "SAPR"
   ]
  },
  {
   "cell_type": "code",
   "execution_count": 17,
   "metadata": {},
   "outputs": [
    {
     "data": {
      "text/plain": [
       "[1, 10, 100, 2, 20, 200]"
      ]
     },
     "execution_count": 17,
     "metadata": {},
     "output_type": "execute_result"
    }
   ],
   "source": [
    "# Nested loops \n",
    "\n",
    "mylist = []\n",
    "\n",
    "for x in range(1,3):\n",
    "    for y in [1,10,100]:\n",
    "        mylist.append(x*y)\n",
    "mylist"
   ]
  },
  {
   "cell_type": "code",
   "execution_count": 18,
   "metadata": {},
   "outputs": [
    {
     "data": {
      "text/plain": [
       "[1, 10, 1000, 2, 20, 2000]"
      ]
     },
     "execution_count": 18,
     "metadata": {},
     "output_type": "execute_result"
    }
   ],
   "source": [
    "# List comprehension passion\n",
    "\n",
    "mylist = [x*y for x in range(1,3) for y in [1,10,1000]]\n",
    "\n",
    "mylist\n"
   ]
  },
  {
   "cell_type": "code",
   "execution_count": 8,
   "metadata": {},
   "outputs": [
    {
     "data": {
      "text/plain": [
       "['t', 't']"
      ]
     },
     "execution_count": 8,
     "metadata": {},
     "output_type": "execute_result"
    }
   ],
   "source": [
    "# Print only the letter 't' from the below sentence \n",
    "\n",
    "pp = 'See installed Large and available Language Packs in their language'\n",
    "\n",
    "nn = [i for i in pp if i.lower()=='t']\n",
    "\n",
    "nn"
   ]
  },
  {
   "cell_type": "code",
   "execution_count": 1,
   "metadata": {},
   "outputs": [
    {
     "data": {
      "text/plain": [
       "[0, 2, 4, 6, 8]"
      ]
     },
     "execution_count": 1,
     "metadata": {},
     "output_type": "execute_result"
    }
   ],
   "source": [
    "# Print the even numbers between 0 to 10\n",
    "\n",
    "pE10 = [i for i in range(0,10,2)]\n",
    "pE10"
   ]
  },
  {
   "cell_type": "code",
   "execution_count": 3,
   "metadata": {},
   "outputs": [
    {
     "data": {
      "text/plain": [
       "[0, 3, 6, 9, 12, 15, 18, 21, 24, 27, 30, 33, 36, 39, 42, 45, 48]"
      ]
     },
     "execution_count": 3,
     "metadata": {},
     "output_type": "execute_result"
    }
   ],
   "source": [
    "# Print the number between 1 to 50 divisible by 3\n",
    "\n",
    "ListComp1_50_3 = [Div3 for Div3 in range(0,50) if Div3 % 3 == 0]\n",
    "\n",
    "ListComp1_50_3"
   ]
  },
  {
   "cell_type": "code",
   "execution_count": 6,
   "metadata": {},
   "outputs": [
    {
     "name": "stdout",
     "output_type": "stream",
     "text": [
      "0\n",
      "Not Even 1\n",
      "2\n",
      "Not Even 3\n",
      "4\n",
      "Not Even 5\n",
      "6\n",
      "Not Even 7\n",
      "8\n",
      "Not Even 9\n"
     ]
    }
   ],
   "source": [
    "# Print all the even number between 1 to 10 \n",
    "\n",
    "for i in range(0,10):\n",
    "    if i % 2 ==0:\n",
    "        print(i)\n",
    "    else :\n",
    "        print(f'Not Even {i}')\n",
    "\n"
   ]
  },
  {
   "cell_type": "code",
   "execution_count": 12,
   "metadata": {},
   "outputs": [
    {
     "name": "stdout",
     "output_type": "stream",
     "text": [
      "3 Number is Fizz\n",
      "5 Number is Buzz\n",
      "6 Number is Fizz\n",
      "9 Number is Fizz\n",
      "10 Number is Buzz\n",
      "12 Number is Fizz\n",
      "15 Number is BuzzFizz\n",
      "18 Number is Fizz\n",
      "20 Number is Buzz\n",
      "21 Number is Fizz\n",
      "24 Number is Fizz\n",
      "25 Number is Buzz\n",
      "27 Number is Fizz\n",
      "30 Number is BuzzFizz\n",
      "33 Number is Fizz\n",
      "35 Number is Buzz\n",
      "36 Number is Fizz\n",
      "39 Number is Fizz\n",
      "40 Number is Buzz\n",
      "42 Number is Fizz\n",
      "45 Number is BuzzFizz\n",
      "48 Number is Fizz\n",
      "50 Number is Buzz\n",
      "51 Number is Fizz\n",
      "54 Number is Fizz\n",
      "55 Number is Buzz\n",
      "57 Number is Fizz\n",
      "60 Number is BuzzFizz\n",
      "63 Number is Fizz\n",
      "65 Number is Buzz\n",
      "66 Number is Fizz\n",
      "69 Number is Fizz\n",
      "70 Number is Buzz\n",
      "72 Number is Fizz\n",
      "75 Number is BuzzFizz\n",
      "78 Number is Fizz\n",
      "80 Number is Buzz\n",
      "81 Number is Fizz\n",
      "84 Number is Fizz\n",
      "85 Number is Buzz\n",
      "87 Number is Fizz\n",
      "90 Number is BuzzFizz\n",
      "93 Number is Fizz\n",
      "95 Number is Buzz\n",
      "96 Number is Fizz\n",
      "99 Number is Fizz\n"
     ]
    }
   ],
   "source": [
    "# Print the value between 1 to 100 , print 'Fizz' for number divisible by 3 and 'Buzz' for number divisible by 5 \n",
    "# and if the number is divisbile by bot then 'FizzBuzz'\n",
    "\n",
    "for i in range(1,100):\n",
    "    if (i % 3 ==0 and i % 5 ==0):\n",
    "        print(f'{i} Number is BuzzFizz')\n",
    "    elif i % 3 ==0:\n",
    "        print(f'{i} Number is Fizz')\n",
    "    elif i % 5 ==0:\n",
    "        print(f'{i} Number is Buzz')\n",
    "\n"
   ]
  },
  {
   "cell_type": "code",
   "execution_count": 15,
   "metadata": {},
   "outputs": [
    {
     "data": {
      "text/plain": [
       "['U', 't', 'b', 's', 't', 'p', 't', 'f', 'l', 'o', 't', 'w']"
      ]
     },
     "execution_count": 15,
     "metadata": {},
     "output_type": "execute_result"
    }
   ],
   "source": [
    "# Use the below sentence to print the first letter of the word \n",
    "\n",
    "sentence = ('Use the below sentence to print the first letter of the word ')\n",
    "\n",
    "SFirstLetter = [l[0] for l in sentence.split()  ]\n",
    "\n",
    "SFirstLetter"
   ]
  },
  {
   "cell_type": "code",
   "execution_count": 2,
   "metadata": {},
   "outputs": [],
   "source": [
    "# Taking input string and converting alternative string into upper and lower case \n",
    "# string based on odd and even placement/position of string\n",
    "\n",
    "def StringEvenOdd(st):\n",
    "    emList = list()  \n",
    "    for i in range(0,len(st)):\n",
    "        if i % 2 ==0:\n",
    "          e= st[i]\n",
    "          e = e.upper()\n",
    "          emList.append(e)\n",
    "        else:\n",
    "          l = st[i]\n",
    "          l = l.lower()\n",
    "          emList.append(l)\n",
    "    return emList\n",
    "\n"
   ]
  },
  {
   "cell_type": "code",
   "execution_count": 4,
   "metadata": {},
   "outputs": [
    {
     "data": {
      "text/plain": [
       "['R', 'a', 'G', 'h', 'A', 'v', 'E', 'n', 'D', 'r', 'A']"
      ]
     },
     "execution_count": 4,
     "metadata": {},
     "output_type": "execute_result"
    }
   ],
   "source": [
    "StringEvenOdd('RaghavenDra')"
   ]
  }
 ],
 "metadata": {
  "kernelspec": {
   "display_name": "Python (azure_automl)",
   "language": "python",
   "name": "azure_automl"
  },
  "language_info": {
   "codemirror_mode": {
    "name": "ipython",
    "version": 3
   },
   "file_extension": ".py",
   "mimetype": "text/x-python",
   "name": "python",
   "nbconvert_exporter": "python",
   "pygments_lexer": "ipython3",
   "version": "3.6.13"
  },
  "orig_nbformat": 4
 },
 "nbformat": 4,
 "nbformat_minor": 2
}
